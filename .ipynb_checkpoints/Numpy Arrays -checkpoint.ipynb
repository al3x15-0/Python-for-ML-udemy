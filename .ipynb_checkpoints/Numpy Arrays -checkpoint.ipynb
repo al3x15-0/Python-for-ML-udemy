{
 "cells": [
  {
   "cell_type": "markdown",
   "id": "8e2fac45-f38f-4c0c-9b02-0403cfa8daa3",
   "metadata": {
    "tags": []
   },
   "source": [
    "# Numpy Arrays Indexing "
   ]
  },
  {
   "cell_type": "code",
   "execution_count": 2,
   "id": "5be3867d",
   "metadata": {},
   "outputs": [],
   "source": [
    "import numpy as np "
   ]
  },
  {
   "cell_type": "code",
   "execution_count": 3,
   "id": "d892bb6c-5dde-4ac6-b5fd-aea83cd43bd3",
   "metadata": {},
   "outputs": [],
   "source": [
    "arr = np.arange(0,11)"
   ]
  },
  {
   "cell_type": "code",
   "execution_count": 4,
   "id": "30234d76-4fba-4e62-9469-d69f327ccaa8",
   "metadata": {},
   "outputs": [
    {
     "data": {
      "text/plain": [
       "array([ 0,  1,  2,  3,  4,  5,  6,  7,  8,  9, 10])"
      ]
     },
     "execution_count": 4,
     "metadata": {},
     "output_type": "execute_result"
    }
   ],
   "source": [
    "arr"
   ]
  },
  {
   "cell_type": "code",
   "execution_count": 6,
   "id": "75397c1a-71de-4088-87df-b92961fb55f0",
   "metadata": {},
   "outputs": [
    {
     "data": {
      "text/plain": [
       "8"
      ]
     },
     "execution_count": 6,
     "metadata": {},
     "output_type": "execute_result"
    }
   ],
   "source": [
    "arr[8]"
   ]
  },
  {
   "cell_type": "code",
   "execution_count": 7,
   "id": "5030052c-5626-43f9-ae27-00fb1fe5bc22",
   "metadata": {},
   "outputs": [
    {
     "data": {
      "text/plain": [
       "array([1, 2, 3, 4])"
      ]
     },
     "execution_count": 7,
     "metadata": {},
     "output_type": "execute_result"
    }
   ],
   "source": [
    "arr[1:5]"
   ]
  },
  {
   "cell_type": "markdown",
   "id": "d6a2cfb9-1d15-4422-b304-e7263e0defb4",
   "metadata": {
    "tags": []
   },
   "source": [
    "## Slicing Notation\n",
    "note that the last number is exlcluded.\n",
    "For example, "
   ]
  },
  {
   "cell_type": "code",
   "execution_count": 8,
   "id": "05b65e32-e20e-45da-ac8f-fa0b9706dafd",
   "metadata": {},
   "outputs": [
    {
     "data": {
      "text/plain": [
       "array([0, 1, 2, 3, 4, 5])"
      ]
     },
     "execution_count": 8,
     "metadata": {},
     "output_type": "execute_result"
    }
   ],
   "source": [
    "arr[:6]"
   ]
  },
  {
   "cell_type": "code",
   "execution_count": 11,
   "id": "45d0c91b-f5e8-4a33-bc91-903eaece6f03",
   "metadata": {},
   "outputs": [
    {
     "data": {
      "text/plain": [
       "array([ 6,  7,  8,  9, 10])"
      ]
     },
     "execution_count": 11,
     "metadata": {},
     "output_type": "execute_result"
    }
   ],
   "source": [
    "arr[6:]"
   ]
  },
  {
   "cell_type": "code",
   "execution_count": 12,
   "id": "94bc5762-07cb-42b8-889e-ffe145f7ab86",
   "metadata": {},
   "outputs": [],
   "source": [
    "arr [0:5] = 100"
   ]
  },
  {
   "cell_type": "code",
   "execution_count": 13,
   "id": "d6d8c1e0-723c-4566-95da-87af86a7d022",
   "metadata": {},
   "outputs": [
    {
     "data": {
      "text/plain": [
       "array([100, 100, 100, 100, 100,   5,   6,   7,   8,   9,  10])"
      ]
     },
     "execution_count": 13,
     "metadata": {},
     "output_type": "execute_result"
    }
   ],
   "source": [
    "arr"
   ]
  },
  {
   "cell_type": "markdown",
   "id": "238e9b94-525b-441b-b047-54d1e027ce0b",
   "metadata": {},
   "source": [
    "arr = np.arange(0,11)"
   ]
  },
  {
   "cell_type": "code",
   "execution_count": 15,
   "id": "559b9adb-7c44-4700-95a6-62a90476e602",
   "metadata": {},
   "outputs": [
    {
     "data": {
      "text/plain": [
       "array([ 0,  1,  2,  3,  4,  5,  6,  7,  8,  9, 10])"
      ]
     },
     "execution_count": 15,
     "metadata": {},
     "output_type": "execute_result"
    }
   ],
   "source": [
    "arr"
   ]
  },
  {
   "cell_type": "code",
   "execution_count": 17,
   "id": "d11e5709-50cc-46e5-8731-16a8070b71cd",
   "metadata": {},
   "outputs": [],
   "source": [
    "slice_of_arr = arr[:5]"
   ]
  },
  {
   "cell_type": "code",
   "execution_count": 20,
   "id": "6486855b-f6fb-4bb7-b41d-2daa8baa09a7",
   "metadata": {},
   "outputs": [],
   "source": [
    "slice_of_arr[:] = 99"
   ]
  },
  {
   "cell_type": "code",
   "execution_count": 21,
   "id": "e2c198db-fcf7-4954-83d3-e51b5f690e9e",
   "metadata": {},
   "outputs": [
    {
     "data": {
      "text/plain": [
       "array([99, 99, 99, 99, 99,  5,  6,  7,  8,  9, 10])"
      ]
     },
     "execution_count": 21,
     "metadata": {},
     "output_type": "execute_result"
    }
   ],
   "source": [
    "arr"
   ]
  },
  {
   "cell_type": "code",
   "execution_count": null,
   "id": "01b4ab8f-9350-4619-845d-f3a000035398",
   "metadata": {},
   "outputs": [],
   "source": [
    "#numpy replaced including the original values, not just slice_of_arr\n",
    "#It stores a reference and not a copy to avoid memory issues with very large arrays. "
   ]
  },
  {
   "cell_type": "markdown",
   "id": "61ca6c4f-9715-4c20-be3a-a90a85d2f7ec",
   "metadata": {},
   "source": [
    "## To keep a copy:👇\n",
    "Use .copy() method"
   ]
  },
  {
   "cell_type": "code",
   "execution_count": 23,
   "id": "cef8687d-d27e-4035-bd52-743f05c4db4e",
   "metadata": {},
   "outputs": [],
   "source": [
    "arr_copy = arr.copy()"
   ]
  },
  {
   "cell_type": "code",
   "execution_count": 24,
   "id": "bbe05a41-cf9c-42b2-85d9-0cdf041803de",
   "metadata": {},
   "outputs": [
    {
     "data": {
      "text/plain": [
       "array([99, 99, 99, 99, 99,  5,  6,  7,  8,  9, 10])"
      ]
     },
     "execution_count": 24,
     "metadata": {},
     "output_type": "execute_result"
    }
   ],
   "source": [
    "arr_copy"
   ]
  },
  {
   "cell_type": "code",
   "execution_count": 25,
   "id": "d9840a3e-ed66-4e3a-9ee8-856eb306bb34",
   "metadata": {},
   "outputs": [],
   "source": [
    "arr_copy[:] = 100"
   ]
  },
  {
   "cell_type": "code",
   "execution_count": 26,
   "id": "03acd5c1-8ac4-4395-be1b-edaba0d82d4a",
   "metadata": {},
   "outputs": [
    {
     "data": {
      "text/plain": [
       "array([100, 100, 100, 100, 100, 100, 100, 100, 100, 100, 100])"
      ]
     },
     "execution_count": 26,
     "metadata": {},
     "output_type": "execute_result"
    }
   ],
   "source": [
    "arr_copy"
   ]
  },
  {
   "cell_type": "code",
   "execution_count": 27,
   "id": "4344fe2c-f3fa-48cd-ae89-7efd882c69ed",
   "metadata": {},
   "outputs": [
    {
     "data": {
      "text/plain": [
       "array([99, 99, 99, 99, 99,  5,  6,  7,  8,  9, 10])"
      ]
     },
     "execution_count": 27,
     "metadata": {},
     "output_type": "execute_result"
    }
   ],
   "source": [
    "arr"
   ]
  },
  {
   "cell_type": "markdown",
   "id": "f55b55ff-daea-427e-afa6-d3fc6706c982",
   "metadata": {},
   "source": [
    "## Indexing a 2D array (Matrix)"
   ]
  },
  {
   "cell_type": "code",
   "execution_count": 28,
   "id": "c5d088c0-a181-48f9-b73f-9912ca7e2bfa",
   "metadata": {},
   "outputs": [],
   "source": [
    "arr_2d = np.array([[5,10,15],[20,25,30],[35,40,40]])"
   ]
  },
  {
   "cell_type": "code",
   "execution_count": 29,
   "id": "ce301da1-b7f0-46e0-a8c5-1b7d068e6420",
   "metadata": {},
   "outputs": [
    {
     "data": {
      "text/plain": [
       "array([[ 5, 10, 15],\n",
       "       [20, 25, 30],\n",
       "       [35, 40, 40]])"
      ]
     },
     "execution_count": 29,
     "metadata": {},
     "output_type": "execute_result"
    }
   ],
   "source": [
    "arr_2d"
   ]
  },
  {
   "cell_type": "code",
   "execution_count": 31,
   "id": "fcd532cf-c551-4eae-a323-080e74cc0d1f",
   "metadata": {},
   "outputs": [
    {
     "data": {
      "text/plain": [
       "40"
      ]
     },
     "execution_count": 31,
     "metadata": {},
     "output_type": "execute_result"
    }
   ],
   "source": [
    "arr_2d[2][1] #double bracket notation"
   ]
  },
  {
   "cell_type": "code",
   "execution_count": 35,
   "id": "3650fb52-dbcf-44c4-8c55-6295c6ecac73",
   "metadata": {},
   "outputs": [
    {
     "data": {
      "text/plain": [
       "40"
      ]
     },
     "execution_count": 35,
     "metadata": {},
     "output_type": "execute_result"
    }
   ],
   "source": [
    "arr_2d[2,1] #comma single bracket notation - preferred as it's less prone to errors"
   ]
  },
  {
   "cell_type": "code",
   "execution_count": 34,
   "id": "33f9b2e7-85f4-4372-aeef-4bb55d591398",
   "metadata": {},
   "outputs": [
    {
     "data": {
      "text/plain": [
       "array([[ 5, 10, 15],\n",
       "       [20, 25, 30],\n",
       "       [35, 40, 40]])"
      ]
     },
     "execution_count": 34,
     "metadata": {},
     "output_type": "execute_result"
    }
   ],
   "source": [
    "arr_2d"
   ]
  },
  {
   "cell_type": "code",
   "execution_count": 38,
   "id": "d6ff2629-d609-4a74-a668-88fa0fa8cd4b",
   "metadata": {},
   "outputs": [],
   "source": [
    "#how to grab an entire section  (5,10, 20, 25)"
   ]
  },
  {
   "cell_type": "code",
   "execution_count": 41,
   "id": "45cb22e0-c2c1-40ad-9969-b7faf002cd65",
   "metadata": {},
   "outputs": [
    {
     "data": {
      "text/plain": [
       "array([[ 5, 10]])"
      ]
     },
     "execution_count": 41,
     "metadata": {},
     "output_type": "execute_result"
    }
   ],
   "source": [
    "arr_2d[:1,:2]"
   ]
  },
  {
   "cell_type": "code",
   "execution_count": null,
   "id": "89578e3f-ccde-4eff-a189-d18e19860845",
   "metadata": {},
   "outputs": [],
   "source": []
  }
 ],
 "metadata": {
  "kernelspec": {
   "display_name": "Python 3 (ipykernel)",
   "language": "python",
   "name": "python3"
  },
  "language_info": {
   "codemirror_mode": {
    "name": "ipython",
    "version": 3
   },
   "file_extension": ".py",
   "mimetype": "text/x-python",
   "name": "python",
   "nbconvert_exporter": "python",
   "pygments_lexer": "ipython3",
   "version": "3.9.13"
  }
 },
 "nbformat": 4,
 "nbformat_minor": 5
}
