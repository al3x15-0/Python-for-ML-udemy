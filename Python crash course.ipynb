{
 "cells": [
  {
   "cell_type": "code",
   "execution_count": 17,
   "id": "919fe01c",
   "metadata": {},
   "outputs": [],
   "source": [
    "d = {'key1':'value1', 'key2':'123'}"
   ]
  },
  {
   "cell_type": "code",
   "execution_count": 18,
   "id": "a0bf530a",
   "metadata": {},
   "outputs": [],
   "source": [
    "import dis"
   ]
  },
  {
   "cell_type": "code",
   "execution_count": 2,
   "id": "1cf7b34f",
   "metadata": {},
   "outputs": [
    {
     "name": "stdout",
     "output_type": "stream",
     "text": [
      "{'key1': 'value1', 'key2': '123'}\n"
     ]
    }
   ],
   "source": [
    "print (d)"
   ]
  },
  {
   "cell_type": "code",
   "execution_count": 4,
   "id": "5840004c",
   "metadata": {},
   "outputs": [
    {
     "data": {
      "text/plain": [
       "'123'"
      ]
     },
     "execution_count": 4,
     "metadata": {},
     "output_type": "execute_result"
    }
   ],
   "source": [
    "d['key2']"
   ]
  },
  {
   "cell_type": "code",
   "execution_count": 5,
   "id": "750bbc66",
   "metadata": {},
   "outputs": [],
   "source": [
    "d={'k1':{'innerkey':[1,2,3]}}"
   ]
  },
  {
   "cell_type": "code",
   "execution_count": 8,
   "id": "588c74d8",
   "metadata": {},
   "outputs": [
    {
     "data": {
      "text/plain": [
       "3"
      ]
     },
     "execution_count": 8,
     "metadata": {},
     "output_type": "execute_result"
    }
   ],
   "source": [
    "d['k1']['innerkey'][2]"
   ]
  },
  {
   "cell_type": "code",
   "execution_count": 10,
   "id": "9a37e6c7",
   "metadata": {},
   "outputs": [
    {
     "data": {
      "text/plain": [
       "False"
      ]
     },
     "execution_count": 10,
     "metadata": {},
     "output_type": "execute_result"
    }
   ],
   "source": [
    "False"
   ]
  },
  {
   "cell_type": "code",
   "execution_count": 12,
   "id": "befeef3c",
   "metadata": {},
   "outputs": [],
   "source": [
    "t=(1,2,4)"
   ]
  },
  {
   "cell_type": "code",
   "execution_count": 15,
   "id": "81f022e0",
   "metadata": {},
   "outputs": [
    {
     "name": "stdout",
     "output_type": "stream",
     "text": [
      "4\n"
     ]
    }
   ],
   "source": [
    "print(t[2])"
   ]
  },
  {
   "cell_type": "code",
   "execution_count": 14,
   "id": "f2fdba19",
   "metadata": {},
   "outputs": [
    {
     "name": "stdout",
     "output_type": "stream",
     "text": [
      "t\n"
     ]
    }
   ],
   "source": [
    "print ('t')"
   ]
  },
  {
   "cell_type": "code",
   "execution_count": 18,
   "id": "63dbf032",
   "metadata": {},
   "outputs": [
    {
     "data": {
      "text/plain": [
       "{1, 2, 4, 5, 6}"
      ]
     },
     "execution_count": 18,
     "metadata": {},
     "output_type": "execute_result"
    }
   ],
   "source": [
    "{1,2,2,2,2,4,4,4,4,5,6,6,6,6}"
   ]
  },
  {
   "cell_type": "code",
   "execution_count": 21,
   "id": "469fb07a",
   "metadata": {},
   "outputs": [],
   "source": [
    "st = {1,2,4}"
   ]
  },
  {
   "cell_type": "code",
   "execution_count": 22,
   "id": "9e86cf83",
   "metadata": {},
   "outputs": [],
   "source": [
    "st.add(44)"
   ]
  },
  {
   "cell_type": "code",
   "execution_count": 23,
   "id": "1ff31a73",
   "metadata": {},
   "outputs": [
    {
     "data": {
      "text/plain": [
       "{1, 2, 4, 44}"
      ]
     },
     "execution_count": 23,
     "metadata": {},
     "output_type": "execute_result"
    }
   ],
   "source": [
    "st"
   ]
  },
  {
   "cell_type": "code",
   "execution_count": 26,
   "id": "ce2baa90",
   "metadata": {},
   "outputs": [
    {
     "data": {
      "text/plain": [
       "True"
      ]
     },
     "execution_count": 26,
     "metadata": {},
     "output_type": "execute_result"
    }
   ],
   "source": [
    "1<=2"
   ]
  },
  {
   "cell_type": "code",
   "execution_count": 27,
   "id": "324f0052",
   "metadata": {},
   "outputs": [
    {
     "data": {
      "text/plain": [
       "True"
      ]
     },
     "execution_count": 27,
     "metadata": {},
     "output_type": "execute_result"
    }
   ],
   "source": [
    "'hi' !='bye'"
   ]
  },
  {
   "cell_type": "code",
   "execution_count": 32,
   "id": "4fd8f359",
   "metadata": {},
   "outputs": [
    {
     "data": {
      "text/plain": [
       "True"
      ]
     },
     "execution_count": 32,
     "metadata": {},
     "output_type": "execute_result"
    }
   ],
   "source": [
    "110<30 or 3<=5"
   ]
  },
  {
   "cell_type": "code",
   "execution_count": 33,
   "id": "5b4de55b",
   "metadata": {},
   "outputs": [
    {
     "data": {
      "text/plain": [
       "True"
      ]
     },
     "execution_count": 33,
     "metadata": {},
     "output_type": "execute_result"
    }
   ],
   "source": [
    "True or True"
   ]
  },
  {
   "cell_type": "code",
   "execution_count": 34,
   "id": "7d022f55",
   "metadata": {},
   "outputs": [
    {
     "data": {
      "text/plain": [
       "False"
      ]
     },
     "execution_count": 34,
     "metadata": {},
     "output_type": "execute_result"
    }
   ],
   "source": [
    "True and False"
   ]
  },
  {
   "cell_type": "code",
   "execution_count": 45,
   "id": "a45d8a77",
   "metadata": {},
   "outputs": [
    {
     "name": "stdout",
     "output_type": "stream",
     "text": [
      "heyo rasta man\n"
     ]
    }
   ],
   "source": [
    "if 1>2:\n",
    "    print ('1 greater than two') \n",
    "elif 3>5:\n",
    "    print ('3 greater than 5')\n",
    "elif 3%2 == 1:\n",
    "    print ('heyo rasta man')\n",
    "else: \n",
    "    print('Hakuna condition')"
   ]
  },
  {
   "cell_type": "code",
   "execution_count": 46,
   "id": "6c467b9c",
   "metadata": {},
   "outputs": [],
   "source": [
    "seq = [1,2,3,4,5,6]"
   ]
  },
  {
   "cell_type": "code",
   "execution_count": 56,
   "id": "5a43b6f6",
   "metadata": {},
   "outputs": [
    {
     "name": "stdout",
     "output_type": "stream",
     "text": [
      "Item number 1 is 1\n",
      "Item number 2 is 2\n",
      "Item number 3 is 3\n",
      "Item number 4 is 4\n",
      "Item number 5 is 5\n",
      "Item number 6 is 6\n"
     ]
    }
   ],
   "source": [
    "for i in seq:\n",
    "    print ('Item number', i, 'is {}'.format (i))"
   ]
  },
  {
   "cell_type": "code",
   "execution_count": 9,
   "id": "f2780346",
   "metadata": {},
   "outputs": [
    {
     "name": "stdout",
     "output_type": "stream",
     "text": [
      "1.3  is the number\n",
      "2.0  is the number\n",
      "2.7  is the number\n",
      "3.4000000000000004  is the number\n",
      "4.1000000000000005  is the number\n",
      "4.800000000000001  is the number\n"
     ]
    }
   ],
   "source": [
    "i=1.3\n",
    "while i<5:\n",
    "    print (i,\" is the number\")\n",
    "    i=i+.7"
   ]
  },
  {
   "cell_type": "code",
   "execution_count": 2,
   "id": "824754ce",
   "metadata": {},
   "outputs": [
    {
     "data": {
      "text/plain": [
       "range(0, 8)"
      ]
     },
     "execution_count": 2,
     "metadata": {},
     "output_type": "execute_result"
    }
   ],
   "source": [
    "range (0,8)"
   ]
  },
  {
   "cell_type": "code",
   "execution_count": 3,
   "id": "29664ddf",
   "metadata": {},
   "outputs": [
    {
     "name": "stdout",
     "output_type": "stream",
     "text": [
      "<class 'range'>\n"
     ]
    }
   ],
   "source": [
    "print(range)"
   ]
  },
  {
   "cell_type": "code",
   "execution_count": 4,
   "id": "6e304641",
   "metadata": {},
   "outputs": [
    {
     "data": {
      "text/plain": [
       "[0, 1, 2, 3, 4]"
      ]
     },
     "execution_count": 4,
     "metadata": {},
     "output_type": "execute_result"
    }
   ],
   "source": [
    "list (range(0,5))"
   ]
  },
  {
   "cell_type": "code",
   "execution_count": 5,
   "id": "9727203f",
   "metadata": {},
   "outputs": [
    {
     "name": "stdout",
     "output_type": "stream",
     "text": [
      "You got this!!\n",
      "You got this!!\n",
      "You got this!!\n",
      "You got this!!\n",
      "You got this!!\n",
      "You got this!!\n",
      "You got this!!\n",
      "You got this!!\n"
     ]
    }
   ],
   "source": [
    "for c in range(0,8):\n",
    "    print ('You got this!!')"
   ]
  },
  {
   "cell_type": "code",
   "execution_count": 13,
   "id": "c1af0e80",
   "metadata": {},
   "outputs": [],
   "source": [
    "def func(param1, param2):\n",
    "    for i in range(0,param2):\n",
    "        print ('hello mara {}'.format(i))"
   ]
  },
  {
   "cell_type": "code",
   "execution_count": 15,
   "id": "2b92dafa",
   "metadata": {},
   "outputs": [
    {
     "name": "stdout",
     "output_type": "stream",
     "text": [
      "hello mara 0\n",
      "hello mara 1\n",
      "hello mara 2\n",
      "hello mara 3\n",
      "hello mara 4\n",
      "hello mara 5\n",
      "hello mara 6\n",
      "hello mara 7\n",
      "hello mara 8\n"
     ]
    }
   ],
   "source": [
    "func('hello', 9)"
   ]
  },
  {
   "cell_type": "code",
   "execution_count": 19,
   "id": "ec0d2ec1",
   "metadata": {},
   "outputs": [],
   "source": [
    "def func2(name= 'Muturi'):\n",
    "    print ('Hello '+name)"
   ]
  },
  {
   "cell_type": "code",
   "execution_count": 20,
   "id": "5837a532",
   "metadata": {},
   "outputs": [
    {
     "name": "stdout",
     "output_type": "stream",
     "text": [
      "Hello Mutwiri\n"
     ]
    }
   ],
   "source": [
    "func2('Mutwiri')"
   ]
  },
  {
   "cell_type": "code",
   "execution_count": 21,
   "id": "cfc7f474",
   "metadata": {},
   "outputs": [],
   "source": [
    "def square (num):\n",
    "    return num**2"
   ]
  },
  {
   "cell_type": "code",
   "execution_count": 25,
   "id": "6e3673f6",
   "metadata": {},
   "outputs": [],
   "source": [
    "output = square(66)"
   ]
  },
  {
   "cell_type": "code",
   "execution_count": 26,
   "id": "1204b326",
   "metadata": {},
   "outputs": [
    {
     "name": "stdout",
     "output_type": "stream",
     "text": [
      "The square is 4356\n"
     ]
    }
   ],
   "source": [
    "print ('The square is {}'.format(output))"
   ]
  },
  {
   "cell_type": "code",
   "execution_count": 7,
   "id": "5fa28134",
   "metadata": {},
   "outputs": [],
   "source": [
    "def times2(var): return var*2"
   ]
  },
  {
   "cell_type": "code",
   "execution_count": null,
   "id": "38ae67d0",
   "metadata": {},
   "outputs": [],
   "source": []
  },
  {
   "cell_type": "code",
   "execution_count": 2,
   "id": "42b2eeeb",
   "metadata": {},
   "outputs": [
    {
     "data": {
      "text/plain": [
       "14"
      ]
     },
     "execution_count": 2,
     "metadata": {},
     "output_type": "execute_result"
    }
   ],
   "source": [
    "times2(7)"
   ]
  },
  {
   "cell_type": "markdown",
   "id": "5630559c",
   "metadata": {},
   "source": [
    "## Map Function"
   ]
  },
  {
   "cell_type": "code",
   "execution_count": 3,
   "id": "00736e66",
   "metadata": {},
   "outputs": [],
   "source": [
    "seq = [1,2,3,4,5,6]"
   ]
  },
  {
   "cell_type": "code",
   "execution_count": 5,
   "id": "44c232a1",
   "metadata": {},
   "outputs": [
    {
     "data": {
      "text/plain": [
       "[2, 4, 6, 8, 10, 12]"
      ]
     },
     "execution_count": 5,
     "metadata": {},
     "output_type": "execute_result"
    }
   ],
   "source": [
    "list(map(times2,seq))"
   ]
  },
  {
   "cell_type": "code",
   "execution_count": 11,
   "id": "20f00d20",
   "metadata": {},
   "outputs": [
    {
     "data": {
      "text/plain": [
       "5"
      ]
     },
     "execution_count": 11,
     "metadata": {},
     "output_type": "execute_result"
    }
   ],
   "source": [
    "(lambda x:x+1)(4)"
   ]
  },
  {
   "cell_type": "code",
   "execution_count": 12,
   "id": "0d0cda03",
   "metadata": {},
   "outputs": [],
   "source": [
    "add_one = lambda x:x/5"
   ]
  },
  {
   "cell_type": "code",
   "execution_count": 13,
   "id": "9212e55d",
   "metadata": {},
   "outputs": [
    {
     "data": {
      "text/plain": [
       "7.0"
      ]
     },
     "execution_count": 13,
     "metadata": {},
     "output_type": "execute_result"
    }
   ],
   "source": [
    "add_one(35)"
   ]
  },
  {
   "cell_type": "code",
   "execution_count": 15,
   "id": "36752d89",
   "metadata": {},
   "outputs": [
    {
     "data": {
      "text/plain": [
       "3.0"
      ]
     },
     "execution_count": 15,
     "metadata": {},
     "output_type": "execute_result"
    }
   ],
   "source": [
    "(lambda x, y:x/y)(6,2)"
   ]
  },
  {
   "cell_type": "code",
   "execution_count": 19,
   "id": "d298772a",
   "metadata": {},
   "outputs": [
    {
     "name": "stdout",
     "output_type": "stream",
     "text": [
      "  1           0 LOAD_FAST                0 (x)\n",
      "              2 LOAD_CONST               1 (5)\n",
      "              4 BINARY_TRUE_DIVIDE\n",
      "              6 RETURN_VALUE\n"
     ]
    }
   ],
   "source": [
    "dis.dis(add_one)"
   ]
  },
  {
   "cell_type": "code",
   "execution_count": 20,
   "id": "ccdd2826",
   "metadata": {},
   "outputs": [
    {
     "name": "stdout",
     "output_type": "stream",
     "text": [
      "  1           0 LOAD_FAST                0 (var)\n",
      "              2 LOAD_CONST               1 (2)\n",
      "              4 BINARY_MULTIPLY\n",
      "              6 RETURN_VALUE\n"
     ]
    }
   ],
   "source": [
    "dis.dis(times2)"
   ]
  },
  {
   "cell_type": "code",
   "execution_count": 24,
   "id": "a858a00e",
   "metadata": {},
   "outputs": [
    {
     "data": {
      "text/plain": [
       "[2, 4, 6]"
      ]
     },
     "execution_count": 24,
     "metadata": {},
     "output_type": "execute_result"
    }
   ],
   "source": [
    "list(filter (lambda num : num%2==0, seq))"
   ]
  },
  {
   "cell_type": "code",
   "execution_count": 28,
   "id": "17449e1c",
   "metadata": {},
   "outputs": [],
   "source": [
    "s = 'My name is Drago'"
   ]
  },
  {
   "cell_type": "code",
   "execution_count": 31,
   "id": "2f3584d7",
   "metadata": {},
   "outputs": [
    {
     "data": {
      "text/plain": [
       "'MY NAME IS DRAGO'"
      ]
     },
     "execution_count": 31,
     "metadata": {},
     "output_type": "execute_result"
    }
   ],
   "source": [
    "s.upper()"
   ]
  },
  {
   "cell_type": "code",
   "execution_count": 37,
   "id": "cbfc45cb",
   "metadata": {},
   "outputs": [
    {
     "data": {
      "text/plain": [
       "'my name is drago'"
      ]
     },
     "execution_count": 37,
     "metadata": {},
     "output_type": "execute_result"
    }
   ],
   "source": [
    "s.lower()"
   ]
  },
  {
   "cell_type": "code",
   "execution_count": 34,
   "id": "198e72cc",
   "metadata": {},
   "outputs": [],
   "source": [
    "tweet = 'Go Mandarin Team!! #sports'"
   ]
  },
  {
   "cell_type": "code",
   "execution_count": 36,
   "id": "92c49526",
   "metadata": {},
   "outputs": [
    {
     "data": {
      "text/plain": [
       "['Go Mandarin Team', '', ' #sports']"
      ]
     },
     "execution_count": 36,
     "metadata": {},
     "output_type": "execute_result"
    }
   ],
   "source": [
    "tweet.split('!')"
   ]
  },
  {
   "cell_type": "code",
   "execution_count": 38,
   "id": "2aac9584",
   "metadata": {},
   "outputs": [
    {
     "data": {
      "text/plain": [
       "{'key1': 'value1', 'key2': '123'}"
      ]
     },
     "execution_count": 38,
     "metadata": {},
     "output_type": "execute_result"
    }
   ],
   "source": [
    "d"
   ]
  },
  {
   "cell_type": "code",
   "execution_count": 40,
   "id": "3bc5ce57",
   "metadata": {},
   "outputs": [
    {
     "data": {
      "text/plain": [
       "dict_keys(['key1', 'key2'])"
      ]
     },
     "execution_count": 40,
     "metadata": {},
     "output_type": "execute_result"
    }
   ],
   "source": [
    "d.keys()"
   ]
  },
  {
   "cell_type": "code",
   "execution_count": 41,
   "id": "3431c5f4",
   "metadata": {},
   "outputs": [
    {
     "data": {
      "text/plain": [
       "dict_items([('key1', 'value1'), ('key2', '123')])"
      ]
     },
     "execution_count": 41,
     "metadata": {},
     "output_type": "execute_result"
    }
   ],
   "source": [
    "d.items()"
   ]
  },
  {
   "cell_type": "code",
   "execution_count": 42,
   "id": "7f18bcd5",
   "metadata": {},
   "outputs": [
    {
     "data": {
      "text/plain": [
       "dict_values(['value1', '123'])"
      ]
     },
     "execution_count": 42,
     "metadata": {},
     "output_type": "execute_result"
    }
   ],
   "source": [
    "d.values()"
   ]
  },
  {
   "cell_type": "code",
   "execution_count": 43,
   "id": "7a327a54",
   "metadata": {},
   "outputs": [],
   "source": [
    "ls = [1,2,3]"
   ]
  },
  {
   "cell_type": "code",
   "execution_count": 44,
   "id": "66a43066",
   "metadata": {},
   "outputs": [
    {
     "data": {
      "text/plain": [
       "3"
      ]
     },
     "execution_count": 44,
     "metadata": {},
     "output_type": "execute_result"
    }
   ],
   "source": [
    "ls.pop()"
   ]
  },
  {
   "cell_type": "code",
   "execution_count": 46,
   "id": "0c2e1a0c",
   "metadata": {},
   "outputs": [],
   "source": [
    "ls = [1,2,3,4,5,6,7]"
   ]
  },
  {
   "cell_type": "code",
   "execution_count": 50,
   "id": "979117c1",
   "metadata": {},
   "outputs": [],
   "source": [
    "poppeditem = ls.pop(0)"
   ]
  },
  {
   "cell_type": "code",
   "execution_count": 51,
   "id": "f9927c60",
   "metadata": {},
   "outputs": [
    {
     "data": {
      "text/plain": [
       "1"
      ]
     },
     "execution_count": 51,
     "metadata": {},
     "output_type": "execute_result"
    }
   ],
   "source": [
    "poppeditem"
   ]
  },
  {
   "cell_type": "code",
   "execution_count": 53,
   "id": "160d58b1",
   "metadata": {},
   "outputs": [],
   "source": [
    "ls.append(poppeditem)"
   ]
  },
  {
   "cell_type": "code",
   "execution_count": 54,
   "id": "0bfdc327",
   "metadata": {},
   "outputs": [
    {
     "data": {
      "text/plain": [
       "[2, 3, 4, 5, 6, 1]"
      ]
     },
     "execution_count": 54,
     "metadata": {},
     "output_type": "execute_result"
    }
   ],
   "source": [
    "ls"
   ]
  },
  {
   "cell_type": "code",
   "execution_count": 56,
   "id": "b61f31a7",
   "metadata": {},
   "outputs": [
    {
     "data": {
      "text/plain": [
       "True"
      ]
     },
     "execution_count": 56,
     "metadata": {},
     "output_type": "execute_result"
    }
   ],
   "source": [
    "3 in ls"
   ]
  },
  {
   "cell_type": "code",
   "execution_count": 57,
   "id": "ee616bd5",
   "metadata": {},
   "outputs": [],
   "source": [
    "tuplepack = [(1,2), (3,4), (5,6)]"
   ]
  },
  {
   "cell_type": "code",
   "execution_count": 59,
   "id": "59e50be0",
   "metadata": {},
   "outputs": [
    {
     "name": "stdout",
     "output_type": "stream",
     "text": [
      "values are 1 and 2\n",
      "values are 3 and 4\n",
      "values are 5 and 6\n"
     ]
    }
   ],
   "source": [
    "for x,y in tuplepack:\n",
    "    print ('values are {} and {}'.format(x,y))"
   ]
  },
  {
   "cell_type": "code",
   "execution_count": 60,
   "id": "2bd61e30",
   "metadata": {},
   "outputs": [],
   "source": [
    "d = {'k1':[1,2,3,{'tricky':['oh','man','inception',{'target':[1,2,3,'hello']}]}]}"
   ]
  },
  {
   "cell_type": "code",
   "execution_count": 72,
   "id": "f3deaaab",
   "metadata": {},
   "outputs": [
    {
     "name": "stdout",
     "output_type": "stream",
     "text": [
      "hello\n"
     ]
    }
   ],
   "source": [
    "print (d['k1'][3]['tricky'][3]['target'][3])"
   ]
  },
  {
   "cell_type": "code",
   "execution_count": 74,
   "id": "d5aaf8a0",
   "metadata": {},
   "outputs": [
    {
     "data": {
      "text/plain": [
       "4"
      ]
     },
     "execution_count": 74,
     "metadata": {},
     "output_type": "execute_result"
    }
   ],
   "source": [
    "2**2"
   ]
  },
  {
   "cell_type": "code",
   "execution_count": 75,
   "id": "60971559",
   "metadata": {},
   "outputs": [
    {
     "data": {
      "text/plain": [
       "27"
      ]
     },
     "execution_count": 75,
     "metadata": {},
     "output_type": "execute_result"
    }
   ],
   "source": [
    "3**3"
   ]
  },
  {
   "cell_type": "code",
   "execution_count": 92,
   "id": "9874924b",
   "metadata": {},
   "outputs": [],
   "source": []
  },
  {
   "cell_type": "code",
   "execution_count": 94,
   "id": "7825e285",
   "metadata": {},
   "outputs": [
    {
     "name": "stdout",
     "output_type": "stream",
     "text": [
      "2\n"
     ]
    }
   ],
   "source": [
    "countDog('This dog runs faster than the other DOG dude!')"
   ]
  },
  {
   "cell_type": "code",
   "execution_count": null,
   "id": "9c143018",
   "metadata": {},
   "outputs": [],
   "source": []
  }
 ],
 "metadata": {
  "kernelspec": {
   "display_name": "Python 3 (ipykernel)",
   "language": "python",
   "name": "python3"
  },
  "language_info": {
   "codemirror_mode": {
    "name": "ipython",
    "version": 3
   },
   "file_extension": ".py",
   "mimetype": "text/x-python",
   "name": "python",
   "nbconvert_exporter": "python",
   "pygments_lexer": "ipython3",
   "version": "3.9.13"
  }
 },
 "nbformat": 4,
 "nbformat_minor": 5
}
